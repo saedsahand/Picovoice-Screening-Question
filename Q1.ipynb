{
  "nbformat": 4,
  "nbformat_minor": 0,
  "metadata": {
    "colab": {
      "provenance": []
    },
    "kernelspec": {
      "name": "python3",
      "display_name": "Python 3"
    },
    "language_info": {
      "name": "python"
    }
  },
  "cells": [
    {
      "cell_type": "code",
      "execution_count": null,
      "metadata": {
        "id": "232f0_1ZEEP7"
      },
      "outputs": [],
      "source": [
        "import random\n",
        "from typing import Sequence\n",
        "\n",
        "def prob_rain_more_than_n(p: Sequence[float], n: int) -> float:\n",
        "    num_days = len(p)\n",
        "\n",
        "    # Initialize dp array: dp[k] represents the probability of exactly k rainy days\n",
        "    dp = [0.0] * (num_days + 1)\n",
        "    dp[0] = 1.0  # There's a 100% chance of having 0 rainy days initially\n",
        "\n",
        "    # Iterate over each day's probability\n",
        "    for prob in p:\n",
        "        for k in range(num_days, 0, -1):\n",
        "            dp[k] = dp[k] * (1 - prob) + dp[k - 1] * prob\n",
        "\n",
        "    # Ensure the sum of probabilities for all outcomes does not exceed 1.0\n",
        "    probability = sum(dp[k] for k in range(n + 1, num_days + 1))\n",
        "    return min(max(probability, 0.0), 1.0) * 100  # Convert to percentage and ensure it's between 0% and 100%\n",
        "\n",
        "def main():\n",
        "    num_days = 365\n",
        "\n",
        "    # Generate random probabilities for each day between 0% and 100%, then normalize to [0, 1]\n",
        "    probabilities = [random.uniform(0, 100) / 100 for _ in range(num_days)]\n",
        "\n",
        "    n = int(input(\"Enter the number of days n: \"))\n",
        "\n",
        "    # Calculate the probability of raining more than n days\n",
        "    result = prob_rain_more_than_n(probabilities, n)\n",
        "\n",
        "    # Display the result\n",
        "    print(f\"The probability of raining more than {n} days in a year is: {result:.2f}%\")\n",
        "\n",
        "if __name__ == \"__main__\":\n",
        "    main()\n"
      ]
    }
  ]
}